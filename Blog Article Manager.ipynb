{
 "cells": [
  {
   "cell_type": "markdown",
   "metadata": {},
   "source": [
    "# Blog maker 2000\n",
    "I've always liked the vision of having my own tech blog, written from scratch. By scratch, I mean everything from the AWS tools to the web server to the stylesheets. All written by me, from scratch, at the command line. It's as much good practice for me as it is fun to do.\n",
    "\n",
    "My first versions of this were static HTML files on S3. That was easy but involved copy and pasting from lots of HTML templates. Now I've moved my blog to EC2 where I can host everything via flask. To do this I needed to build some tools to manage content. Of course, there are tools that do this but I really wanted to stick to my original premise of making it from scratch. Plus this allows me to have exactly what I want and nothing else. \n",
    "\n",
    "\n",
    "### Design choices\n",
    "* if there is no corresponding logic in the template to display an item, it will be ignored.\n",
    "* all changes happen in place, not in copies\n",
    "* currently there are no backups. backup and version control is managed via git.\n",
    "* all changes happen locally and are not permanent until written in S3\n",
    "* S3 goes straight to deployment\n"
   ]
  },
  {
   "cell_type": "code",
   "execution_count": 44,
   "metadata": {
    "collapsed": false
   },
   "outputs": [],
   "source": [
    "from boto.s3.connection import S3Connection\n",
    "from boto.s3.key import Key\n",
    "import yaml\n",
    "import time\n",
    "\n",
    "myKeys = yaml.load(open('/home/billmanh/Downloads/Key_file', 'r'))\n",
    "AWSSecretKey=myKeys['AWSSecretKey']\n",
    "AWSAccessKeyId=myKeys['AWSAccessKeyId']\n",
    "conn = S3Connection(AWSAccessKeyId, AWSSecretKey)\n",
    "mybucket = conn.get_bucket('flaskgame')\n",
    "\n",
    "#blog/d3_backend.json"
   ]
  },
  {
   "cell_type": "code",
   "execution_count": 45,
   "metadata": {
    "collapsed": false
   },
   "outputs": [],
   "source": [
    "#get a current article and edit it's content\n",
    "myKey = mybucket.get_key(\"blog/d3_backend.json\")"
   ]
  },
  {
   "cell_type": "markdown",
   "metadata": {},
   "source": [
    "This is what a blog article looks like in the full template"
   ]
  },
  {
   "cell_type": "code",
   "execution_count": 46,
   "metadata": {
    "collapsed": false
   },
   "outputs": [
    {
     "data": {
      "text/plain": [
       "{'author': 'William Harding',\n",
       " 'content': [{'n': 'Formatting data for D3', 'type': 'h1'},\n",
       "  {'n': 'Going from a CSV file to JSON', 'type': 'h1'},\n",
       "  {'n': \"This tutorial should give you a pretty good understanding of how to convert a data file into a format suited for a D3 visualization. In this example I'm using the data file that I got from my Personal Finance App and the Zoomable Circle Packing from mbostock's blocks (That guy is awesome!)\",\n",
       "   'type': 'p'},\n",
       "  {'n': 'You should check out these other blogs in order because it covers the full range of a data deliverable from collection to presentation:',\n",
       "   'type': 'p'},\n",
       "  {'n': 'There are not enough tutorials on the boring backend stuff. Data Scientists spend an embarrassing amount of time getting data, cleaning it and processing it way before they ever get to make insights. Most tutorials contain cleaned data that was specially curated for that analysis or visualization.',\n",
       "   'type': 'p'},\n",
       "  {'n': 'First some easy functions that load the CSV, do some basic filtering and cleaning out data.',\n",
       "   'type': 'p'},\n",
       "  {'n': 'Once you have a clean dataset, you need to convert it into a JSON file that the D3 library can use. Usually this is clearly laid out in the documentation of the D3 library you are using. If not, you will need to use the element explorer to see how the structure that it is expecting. In this case it is a bunch of nested children with names and sizes.',\n",
       "   'type': 'p'},\n",
       "  {'n': '<div></div>', 'type': 'code'},\n",
       "  {'n': 'This is what the Json needs to look like:', 'type': 'p'},\n",
       "  {'n': '<div></div>', 'type': 'code'},\n",
       "  {'n': 'You can have any number of children within children. The zooming can go on forever! Note that the final child is called a leaf. This D3 model is built so that the final item can have a different color (specified in the styleâ sheet at the start of the script). All you need to do is decide how you want to break down your data. I chose to use Month>Category>Recipts.',\n",
       "   'type': 'p'},\n",
       "  {'n': '<div></div>', 'type': 'code'},\n",
       "  {'n': \"With the exception of the D3 code (which you can get from mbostock's blog), the code for the FULL application is here\",\n",
       "   'type': 'p'},\n",
       "  {'n': '', 'type': 'p'},\n",
       "  {'n': '2yearsOfFinancialData.html', 'type': 'script'}],\n",
       " 'date': '8/22/2015',\n",
       " 'keywords': 'D3, Data Visualization, Tutorial, js,HTML5, Python',\n",
       " 'title': 'Two years of data from my Personal Finance App'}"
      ]
     },
     "execution_count": 46,
     "metadata": {},
     "output_type": "execute_result"
    }
   ],
   "source": [
    "article = yaml.load(myKey.get_contents_as_string())\n",
    "article"
   ]
  },
  {
   "cell_type": "markdown",
   "metadata": {},
   "source": [
    "## Local functions to edit and create content"
   ]
  },
  {
   "cell_type": "code",
   "execution_count": 47,
   "metadata": {
    "collapsed": false
   },
   "outputs": [
    {
     "name": "stdout",
     "output_type": "stream",
     "text": [
      "blog/\n",
      "blog/article_1_test\n",
      "blog/article_1_test.json\n",
      "blog/d3_backend.json\n",
      "blog/diy_cms.json\n"
     ]
    }
   ],
   "source": [
    "def createContent(aritcleID,title,author=\"William Harding\",date=time.strftime(\"%d/%m/%Y\"),keywords=\"data,vizualisation,technology\"):\n",
    "    article = {\"articleID\":aritcleID,\n",
    "            \"author\":author,\n",
    "            \"date\":date,\n",
    "            \"title\":title,\n",
    "            \"content\":[]}\n",
    "    return article\n",
    "\n",
    "def listArticles():\n",
    "    for x in mybucket.list():\n",
    "        if \"blog\" in x.name:\n",
    "            print(x.name)\n",
    "    return [a.name for a in mybucket.list() if \"blog\" in a.name]\n",
    "    \n",
    "#by default, content is placed at the end of the content array    \n",
    "def addItemToContent(article,ctype,n):\n",
    "    article['content'].append({\"type\":ctype,\"n\":n})\n",
    "    return article\n",
    "\n",
    "def addLinkToContent(article,link,t):\n",
    "    article['content'].append({\"type\":\"href\",\"link\":link,\"t\":t})\n",
    "    return article\n",
    "    \n",
    "def addCodeToContent(article,n):\n",
    "    article['content'].append({\"type\":\"code\",\"n\":n})\n",
    "    return article\n",
    "    \n",
    "def addDictToContent(article,d):\n",
    "    article['content'].append(d)\n",
    "    return article\n",
    "\n",
    "#will overwrite if it already exists!\n",
    "def addItemToMeta(article,dtype,n):\n",
    "    article[dtype]=n\n",
    "    return article\n",
    "\n",
    "def addListToContent(article, listItems=[\"1\",\"2\",\"3\"]):\n",
    "    article['content'].append({\"type\":\"list\",\"l\":listItems})\n",
    "    return article\n",
    "\n",
    "def changeItemContent(article,index,dtype,n):\n",
    "    article['content'][index] = {\"type\":dtype,\"n\":n,\"index\":index}\n",
    "    \n",
    "def changeItemContent(article,index,dtype,n):\n",
    "    article['content'][index] = {\"type\":dtype,\"n\":n,\"index\":index}\n",
    "    \n",
    "#enumerate content (to make sure that it stays in order)\n",
    "def enumerateContent(article):\n",
    "    counter = 1\n",
    "    for i in article['content']:\n",
    "        i[\"index\"]=counter\n",
    "        counter+=1\n",
    "    return article\n",
    "        \n",
    "def publish(article):\n",
    "    k = Key(mybucket)\n",
    "    k.key = 'blog/' + article['articleID'] + '.json'\n",
    "    k.set_contents_from_string(str(article))\n",
    "    print(k.name)\n",
    "    \n",
    "def updateBlogListing(blogList=listArticles()):\n",
    "    #QA step to remove items that are not blogs\n",
    "    finalList = [a.replace(\"blog/\",\"\") for a in blogList if (len(a.replace(\"blog/\",\"\"))>1)&(\".json\" in a)]\n",
    "    #add logic to control the display order\n",
    "    "
   ]
  },
  {
   "cell_type": "markdown",
   "metadata": {},
   "source": [
    "## This is how you make an article"
   ]
  },
  {
   "cell_type": "code",
   "execution_count": 48,
   "metadata": {
    "collapsed": false
   },
   "outputs": [
    {
     "data": {
      "text/plain": [
       "{'articleID': 'diy_cms',\n",
       " 'author': 'William Harding',\n",
       " 'content': [],\n",
       " 'date': '17/05/2017',\n",
       " 'title': 'Micro Blog Maker: DIY content managment'}"
      ]
     },
     "execution_count": 48,
     "metadata": {},
     "output_type": "execute_result"
    }
   ],
   "source": [
    "article = createContent(\"diy_cms\",\"Micro Blog Maker: DIY content managment\")\n",
    "article"
   ]
  },
  {
   "cell_type": "code",
   "execution_count": 49,
   "metadata": {
    "collapsed": false
   },
   "outputs": [
    {
     "data": {
      "text/plain": [
       "{'articleID': 'diy_cms',\n",
       " 'author': 'William Harding',\n",
       " 'content': [{'n': \"I've always liked the vision of having my own tech blog, written from scratch. By scratch, I mean everything from the AWS tools to the web server to the stylesheets. All written by me, from scratch, at the command line. It's as much good practice for me as it is fun to do.\",\n",
       "   'type': 'p'},\n",
       "  {'n': \"My first versions of this were static HTML files on S3. That was easy but involved copy and pasting from lots of HTML templates. Now I've moved my blog to EC2 where I can host everything via flask. To do this I needed to build some tools to manage content. Of course, there are tools that do this but I really wanted to stick to my original premise of making it from scratch. Plus this allows me to have exactly what I want and nothing else.\",\n",
       "   'type': 'p'},\n",
       "  {'n': 'design choices', 'type': 'h1'}],\n",
       " 'date': '17/05/2017',\n",
       " 'title': 'Micro Blog Maker: DIY content managment'}"
      ]
     },
     "execution_count": 49,
     "metadata": {},
     "output_type": "execute_result"
    }
   ],
   "source": [
    "#text for articles must be uploaded from \n",
    "paragraph = \"I've always liked the vision of having my own tech blog, written from scratch. By scratch, I mean everything from the AWS tools to the web server to the stylesheets. All written by me, from scratch, at the command line. It's as much good practice for me as it is fun to do.\"\n",
    "paragraph2 = \"My first versions of this were static HTML files on S3. That was easy but involved copy and pasting from lots of HTML templates. Now I've moved my blog to EC2 where I can host everything via flask. To do this I needed to build some tools to manage content. Of course, there are tools that do this but I really wanted to stick to my original premise of making it from scratch. Plus this allows me to have exactly what I want and nothing else.\"\n",
    "header = \"design choices\"\n",
    "\n",
    "addItemToContent(article,\"p\",paragraph)\n",
    "addItemToContent(article,\"p\",paragraph2)\n",
    "addItemToContent(article,\"h1\",header)\n"
   ]
  },
  {
   "cell_type": "code",
   "execution_count": 50,
   "metadata": {
    "collapsed": false
   },
   "outputs": [
    {
     "data": {
      "text/plain": [
       "{'articleID': 'diy_cms',\n",
       " 'author': 'William Harding',\n",
       " 'content': [{'n': \"I've always liked the vision of having my own tech blog, written from scratch. By scratch, I mean everything from the AWS tools to the web server to the stylesheets. All written by me, from scratch, at the command line. It's as much good practice for me as it is fun to do.\",\n",
       "   'type': 'p'},\n",
       "  {'n': \"My first versions of this were static HTML files on S3. That was easy but involved copy and pasting from lots of HTML templates. Now I've moved my blog to EC2 where I can host everything via flask. To do this I needed to build some tools to manage content. Of course, there are tools that do this but I really wanted to stick to my original premise of making it from scratch. Plus this allows me to have exactly what I want and nothing else.\",\n",
       "   'type': 'p'},\n",
       "  {'n': 'design choices', 'type': 'h1'},\n",
       "  {'l': ['if there is no corresponding logic in the template to display an item, it will be ignored.',\n",
       "    'all changes happen in place, not in copies',\n",
       "    'currently there are no backups. backup and version control is managed via git.',\n",
       "    'all changes happen locally and are not permanent until written in S3',\n",
       "    'S3 goes straight to deployment'],\n",
       "   'type': 'list'}],\n",
       " 'date': '17/05/2017',\n",
       " 'title': 'Micro Blog Maker: DIY content managment'}"
      ]
     },
     "execution_count": 50,
     "metadata": {},
     "output_type": "execute_result"
    }
   ],
   "source": [
    "listItems = [\"if there is no corresponding logic in the template to display an item, it will be ignored.\"\n",
    ",\"all changes happen in place, not in copies\"\n",
    ",\"currently there are no backups. backup and version control is managed via git.\"\n",
    ",\"all changes happen locally and are not permanent until written in S3\"\n",
    ",\"S3 goes straight to deployment\"\n",
    "]\n",
    "\n",
    "\n",
    "addListToContent(article,listItems)\n"
   ]
  },
  {
   "cell_type": "code",
   "execution_count": 51,
   "metadata": {
    "collapsed": false
   },
   "outputs": [
    {
     "data": {
      "text/plain": [
       "{'articleID': 'diy_cms',\n",
       " 'author': 'William Harding',\n",
       " 'content': [{'n': \"I've always liked the vision of having my own tech blog, written from scratch. By scratch, I mean everything from the AWS tools to the web server to the stylesheets. All written by me, from scratch, at the command line. It's as much good practice for me as it is fun to do.\",\n",
       "   'type': 'p'},\n",
       "  {'n': \"My first versions of this were static HTML files on S3. That was easy but involved copy and pasting from lots of HTML templates. Now I've moved my blog to EC2 where I can host everything via flask. To do this I needed to build some tools to manage content. Of course, there are tools that do this but I really wanted to stick to my original premise of making it from scratch. Plus this allows me to have exactly what I want and nothing else.\",\n",
       "   'type': 'p'},\n",
       "  {'n': 'design choices', 'type': 'h1'},\n",
       "  {'l': ['if there is no corresponding logic in the template to display an item, it will be ignored.',\n",
       "    'all changes happen in place, not in copies',\n",
       "    'currently there are no backups. backup and version control is managed via git.',\n",
       "    'all changes happen locally and are not permanent until written in S3',\n",
       "    'S3 goes straight to deployment'],\n",
       "   'type': 'list'},\n",
       "  {'link': 'https://github.com/settings/profile',\n",
       "   't': 'Check out the code to do this on my github page',\n",
       "   'type': 'href'}],\n",
       " 'date': '17/05/2017',\n",
       " 'title': 'Micro Blog Maker: DIY content managment'}"
      ]
     },
     "execution_count": 51,
     "metadata": {},
     "output_type": "execute_result"
    }
   ],
   "source": [
    "addLinkToContent(article,\"https://github.com/settings/profile\",\"Check out the code to do this on my github page\")"
   ]
  },
  {
   "cell_type": "markdown",
   "metadata": {},
   "source": [
    "## Send article to S3 so that it can be deployed"
   ]
  },
  {
   "cell_type": "code",
   "execution_count": 52,
   "metadata": {
    "collapsed": false
   },
   "outputs": [
    {
     "name": "stdout",
     "output_type": "stream",
     "text": [
      "blog/diy_cms.json\n"
     ]
    }
   ],
   "source": [
    "publish(article)"
   ]
  },
  {
   "cell_type": "markdown",
   "metadata": {},
   "source": [
    "### Posting the meta list so that articles show up in the main site\n",
    "\n"
   ]
  },
  {
   "cell_type": "code",
   "execution_count": 53,
   "metadata": {
    "collapsed": true
   },
   "outputs": [],
   "source": [
    "#not yet added, I'll come back to this once I have enough articles written."
   ]
  }
 ],
 "metadata": {
  "anaconda-cloud": {},
  "kernelspec": {
   "display_name": "Python [default]",
   "language": "python",
   "name": "python3"
  },
  "language_info": {
   "codemirror_mode": {
    "name": "ipython",
    "version": 3
   },
   "file_extension": ".py",
   "mimetype": "text/x-python",
   "name": "python",
   "nbconvert_exporter": "python",
   "pygments_lexer": "ipython3",
   "version": "3.5.2"
  }
 },
 "nbformat": 4,
 "nbformat_minor": 1
}
